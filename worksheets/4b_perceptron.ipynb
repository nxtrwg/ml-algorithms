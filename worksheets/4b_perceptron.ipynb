{
 "cells": [
  {
   "cell_type": "markdown",
   "metadata": {},
   "source": [
    "# Perceptron"
   ]
  },
  {
   "cell_type": "markdown",
   "metadata": {},
   "source": [
    "The aim of this worksheet is to review the steps involved in *perceptron* training algorithm, and to assess how this method can behave in practical scenarios."
   ]
  },
  {
   "cell_type": "markdown",
   "metadata": {},
   "source": [
    "As a first step required for both parts, setup the ipython notebook environment to include numpy, scipy, matplotlib etc."
   ]
  },
  {
   "cell_type": "code",
   "execution_count": 33,
   "metadata": {},
   "outputs": [
    {
     "name": "stdout",
     "output_type": "stream",
     "text": [
      "Populating the interactive namespace from numpy and matplotlib\n"
     ]
    },
    {
     "name": "stderr",
     "output_type": "stream",
     "text": [
      "C:\\Users\\ygeorge\\AppData\\Local\\Continuum\\Anaconda3\\lib\\site-packages\\IPython\\core\\magics\\pylab.py:161: UserWarning: pylab import has clobbered these variables: ['e']\n",
      "`%matplotlib` prevents importing * from pylab and numpy\n",
      "  \"\\n`%matplotlib` prevents importing * from pylab and numpy\"\n"
     ]
    }
   ],
   "source": [
    "%pylab inline\n",
    "import numpy as np\n",
    "import matplotlib.pyplot as plt"
   ]
  },
  {
   "cell_type": "markdown",
   "metadata": {},
   "source": [
    "In this tutorial, we are going to use synthetic data. The advantage of using synthetic data is that we have control over the shape of the data, which is useful in studying properties of machine learning methods.\n",
    "\n",
    "We are going to generate data using a function defined below. This function produces S-shaped dataset which is mostly separable, but not necessarily linearly separable. We can control the degree of separability. The resulting dataset is going to be two-dimensional (so that we can plot it) with a binary label. That is, the dataset is a $N\\times2$ array of instances coupled with an $N\\times1$ of labels. The classes are encoded as $-1$ and $1$.\n",
    "\n",
    "Since the dataset is a tuple of two arrays, we are going to use a special data structure called *named tuple* from a Python module called *collections*."
   ]
  },
  {
   "cell_type": "code",
   "execution_count": 34,
   "metadata": {
    "collapsed": true
   },
   "outputs": [],
   "source": [
    "import collections\n",
    "\n",
    "def generate_s_shaped_data(gap=3):\n",
    "    x = np.random.randn(80, 2)\n",
    "    x[10:20] += np.array([3, 4])\n",
    "    x[20:30] += np.array([0, 8])\n",
    "    x[30:40] += np.array([3, 12])\n",
    "\n",
    "    x[40:50] += np.array([gap, 0])\n",
    "    x[50:60] += np.array([3 + gap, 4])\n",
    "    x[60:70] += np.array([gap, 8])\n",
    "    x[70:80] += np.array([3 + gap, 12])\n",
    "\n",
    "    t = np.hstack([-np.ones(40), np.ones(40)])\n",
    "    \n",
    "    d = collections.namedtuple('Dataset', ['x', 't'])\n",
    "    d.x = x\n",
    "    d.t = t\n",
    "    return d"
   ]
  },
  {
   "cell_type": "markdown",
   "metadata": {},
   "source": [
    "A perceptron is a linear classifier. Therefore, we will aim to generate linearly separable data.\n",
    "\n",
    "We start with generating training data. "
   ]
  },
  {
   "cell_type": "code",
   "execution_count": 35,
   "metadata": {},
   "outputs": [
    {
     "data": {
      "text/plain": [
       "[<matplotlib.lines.Line2D at 0x891f048>]"
      ]
     },
     "execution_count": 35,
     "metadata": {},
     "output_type": "execute_result"
    },
    {
     "data": {
      "image/png": "[encoded data removed]",
      "text/plain": [
       "<matplotlib.figure.Figure at 0x891f4a8>"
      ]
     },
     "metadata": {},
     "output_type": "display_data"
    }
   ],
   "source": [
    "d  = generate_s_shaped_data(8)\n",
    "x = d.x\n",
    "y = d.t\n",
    "\n",
    "plt.plot(x[y==-1,0], x[y==-1,1], \"o\")\n",
    "plt.plot(x[y==1,0], x[y==1,1], \"o\")"
   ]
  },
  {
   "cell_type": "markdown",
   "metadata": {},
   "source": [
    "### Perceptron algorithm"
   ]
  },
  {
   "cell_type": "markdown",
   "metadata": {},
   "source": [
    "Next we will train a binary classifier on this data. For this we’ll use the perceptron algorithm, which\n",
    "you should recall takes a model of the form\n",
    "$$\\begin{align*}\n",
    " s(\\mathbf{x}) &= w_0 + \\mathbf{w}' \\mathbf{x} \\\\\n",
    " predict(\\mathbf{x}) &= \\left\\{ \n",
    "\\begin{array}{cc} \n",
    "1, & \\mbox{if $s(\\mathbf{x}) \\geq 0$} \\\\\n",
    "-1, &  \\mbox{otherwise}\n",
    "\\end{array} \\right .\n",
    "\\end{align*}$$\n"
   ]
  },
  {
   "cell_type": "markdown",
   "metadata": {},
   "source": [
    "For simplicity, we will use the standard trick to incorporate the bias term $w_0$ into the weights $\\mathbf{w}$ by using a basis function $\\phi(x_1, x_2) = [1~x_1~x_2]'$ which adds an extra constant dimension. The model becomes\n",
    "$$ s(\\mathbf{x}) = \\mathbf{w}' \\phi(\\mathbf{x}) $$\n",
    "To do this, simply concatenate a column of 1s to the data matrix."
   ]
  },
  {
   "cell_type": "code",
   "execution_count": 36,
   "metadata": {},
   "outputs": [
    {
     "name": "stdout",
     "output_type": "stream",
     "text": [
      "(80, 3) -2.33701684253 13.8772814972\n"
     ]
    }
   ],
   "source": [
    "Phi = np.column_stack([np.ones(x.shape[0]), x])\n",
    "print (Phi.shape, Phi.min(),Phi.max())\n"
   ]
  },
  {
   "cell_type": "markdown",
   "metadata": {},
   "source": [
    "Note that Phi now has $3$ columns. In this array, each training instance is a row and each column is a feature. From now on we will use Phi instead of x. Each row represents $\\phi(\\mathbf{x})$ for a training instance."
   ]
  },
  {
   "cell_type": "markdown",
   "metadata": {},
   "source": [
    "### Prediction function"
   ]
  },
  {
   "cell_type": "markdown",
   "metadata": {},
   "source": [
    "Next, write the prediction function (aka discriminant). This takes as input a data point (a row from Phi, i.e., a vector of 3 numbers) and the model parameters ($\\mathbf{w}$) and outputs predicted label $1$ or $-1$. Recall that if $s(\\mathbf{x})=0$, the predicted class is $1$."
   ]
  },
  {
   "cell_type": "code",
   "execution_count": 37,
   "metadata": {
    "collapsed": true
   },
   "outputs": [],
   "source": [
    "def perc_pred(phi, w):\n",
    "    s = ... # over to you\n",
    "    return s"
   ]
  },
  {
   "cell_type": "markdown",
   "metadata": {},
   "source": [
    "Don't forget to test your prediction function with some examples! Note that it's more useful if it can support phi inputs both as vectors (returning a scalar, either +1/-1) and as matrices (returning a vector of +1/-1 values). The latter allows for you to supply a full dataset in one call."
   ]
  },
  {
   "cell_type": "code",
   "execution_count": 38,
   "metadata": {},
   "outputs": [
    {
     "name": "stdout",
     "output_type": "stream",
     "text": [
      "1.0\n"
     ]
    }
   ],
   "source": [
    "print(perc_pred([1, 0, 1], [1, 2, 3]))"
   ]
  },
  {
   "cell_type": "code",
   "execution_count": 39,
   "metadata": {},
   "outputs": [
    {
     "name": "stdout",
     "output_type": "stream",
     "text": [
      "[ 1. -1.  1.  1.  1.  1. -1.  1. -1.  1.  1.  1.  1.  1.  1.  1.  1.  1.\n",
      "  1.  1.  1.  1.  1.  1.  1.  1.  1.  1.  1.  1.  1.  1.  1.  1.  1.  1.\n",
      "  1.  1.  1.  1.  1.  1.  1.  1.  1.  1.  1.  1.  1.  1.  1.  1.  1.  1.\n",
      "  1.  1.  1.  1.  1.  1.  1.  1.  1.  1.  1.  1.  1.  1.  1.  1.  1.  1.\n",
      "  1.  1.  1.  1.  1.  1.  1.  1.]\n"
     ]
    }
   ],
   "source": [
    "print(perc_pred(Phi, [1,2,3]))"
   ]
  },
  {
   "cell_type": "markdown",
   "metadata": {},
   "source": [
    "### Training algorithm"
   ]
  },
  {
   "cell_type": "markdown",
   "metadata": {},
   "source": [
    "Now for training algorithm which fits the weights, $\\mathbf{w}$, to the training data. Recall that this is an online training algorithm, and we are going to iterate through the training examples one by one. Moreover, we are going to do several cycles, called *epochs*, such that we iterate through the entire training set within one epoch. Write a function called *train* which takes the basis data matrix *Phi*, the labels *t* and a number of epochs. This should implement the following pseudo-code:"
   ]
  },
  {
   "cell_type": "markdown",
   "metadata": {},
   "source": [
    "> initialise weights to zero \n",
    "\n",
    "> repeat epoch times\n",
    "\n",
    "> >   for each x and t pair in the training set\n",
    "\n",
    "> > >       if model prediction and y differ, make weight update\n",
    "\n",
    "> return weights"
   ]
  },
  {
   "cell_type": "markdown",
   "metadata": {},
   "source": [
    "The weight update in the inner loop is $\\mathbf{w} \\leftarrow \\mathbf{w} + y \\phi(\\mathbf{x})$.\n",
    "What is the purpose of this update?"
   ]
  },
  {
   "cell_type": "code",
   "execution_count": 40,
   "metadata": {
    "collapsed": true
   },
   "outputs": [],
   "source": [
    "def train(data, target, epochs, w , eta= 1.):\n",
    "    for e in range(epochs):\n",
    "        for i in range(data.shape[0]):\n",
    "            yhat = ... # over to you\n",
    "            if yhat != target[i]:\n",
    "                w = ... # over to you\n",
    "    return w"
   ]
  },
  {
   "cell_type": "markdown",
   "metadata": {},
   "source": [
    "Run your training algorithm for 5 epochs to learn the weights"
   ]
  },
  {
   "cell_type": "code",
   "execution_count": 41,
   "metadata": {},
   "outputs": [
    {
     "data": {
      "text/plain": [
       "array([-11.        ,   7.50646671,  -1.8586738 ])"
      ]
     },
     "execution_count": 41,
     "metadata": {},
     "output_type": "execute_result"
    }
   ],
   "source": [
    "w = np.zeros(Phi.shape[1])\n",
    "w = train(Phi, y, 5, w)\n",
    "w"
   ]
  },
  {
   "cell_type": "markdown",
   "metadata": {},
   "source": [
    "### Evaluation"
   ]
  },
  {
   "cell_type": "markdown",
   "metadata": {},
   "source": [
    "We are going to use the proportion of misclassified cases as the quality measure."
   ]
  },
  {
   "cell_type": "code",
   "execution_count": 42,
   "metadata": {},
   "outputs": [
    {
     "name": "stdout",
     "output_type": "stream",
     "text": [
      "0.875\n"
     ]
    }
   ],
   "source": [
    "Accuracy = ... # over to you\n",
    "print(Accuracy)"
   ]
  },
  {
   "cell_type": "markdown",
   "metadata": {},
   "source": [
    "Rerun your training with a larger number of epochs (10, 100, 1000), and evaluate how the accuracy changes. "
   ]
  },
  {
   "cell_type": "markdown",
   "metadata": {},
   "source": [
    "### Heldout evaluation"
   ]
  },
  {
   "cell_type": "markdown",
   "metadata": {},
   "source": [
    "Evaluating on the training data is not a good idea in general, other than for debugging your algorithms. (Can you explain why?) We are going to generate another synthetic data thus essentially creating a fresh *heldout set*. What is the accuracy on this heldout data, and how does this compare to training accuracy?"
   ]
  },
  {
   "cell_type": "code",
   "execution_count": 43,
   "metadata": {},
   "outputs": [
    {
     "data": {
      "image/png": "[encoded data removed]",
      "text/plain": [
       "<matplotlib.figure.Figure at 0x8b560f0>"
      ]
     },
     "metadata": {},
     "output_type": "display_data"
    }
   ],
   "source": [
    "d_held = generate_s_shaped_data(8)\n",
    "x_heldout = d_held.x \n",
    "y_heldout = d_held.t\n",
    "\n",
    "\n",
    "plt.plot(x[y==-1,0], x[y==-1,1], \"o\")\n",
    "plt.plot(x[y==1,0], x[y==1,1], \"o\")\n",
    "\n",
    "# plot the heldout data points\n",
    "plt.plot(x_heldout[y_heldout==-1,0], x_heldout[y_heldout==-1,1], \"x\")\n",
    "plt.plot(x_heldout[y_heldout==1,0], x_heldout[y_heldout==1,1], \"x\")\n",
    "\n",
    "\n",
    "Phi_heldout = np.column_stack([np.ones(x_heldout.shape[0]), x_heldout])"
   ]
  },
  {
   "cell_type": "markdown",
   "metadata": {},
   "source": [
    "Now, let's calculate the accuracy measure for the held-out set"
   ]
  },
  {
   "cell_type": "code",
   "execution_count": 44,
   "metadata": {},
   "outputs": [
    {
     "name": "stdout",
     "output_type": "stream",
     "text": [
      "0.875\n"
     ]
    }
   ],
   "source": [
    "Accuracy = ... # over to you\n",
    "print(Accuracy)"
   ]
  },
  {
   "cell_type": "markdown",
   "metadata": {},
   "source": [
    "Inspect the weights learnt in training. Do these match your intuitions? Plot the decision boundary represented by the weights, $\\mathbf{w}' \\phi(\\mathbf{x}) = 0$. Solving for $x_2$ as a function of $x_1$ yields $x_2 = -\\frac{w_0}{w_2} - \\frac{w_1}{w_2} x_1$. Note that you can *linspace* and *plot* for displaying the line. "
   ]
  },
  {
   "cell_type": "code",
   "execution_count": 49,
   "metadata": {},
   "outputs": [
    {
     "name": "stdout",
     "output_type": "stream",
     "text": [
      "[-11.           7.50646671  -1.8586738 ]\n"
     ]
    },
    {
     "data": {
      "text/plain": [
       "<matplotlib.text.Text at 0x8b5eeb8>"
      ]
     },
     "execution_count": 49,
     "metadata": {},
     "output_type": "execute_result"
    },
    {
     "data": {
      "image/png": "[encoded data removed]",
      "text/plain": [
       "<matplotlib.figure.Figure at 0x9dff518>"
      ]
     },
     "metadata": {},
     "output_type": "display_data"
    }
   ],
   "source": [
    "x1 = np.linspace(0, 6, 100)\n",
    "print(w)\n",
    "x2 = - (w[0] / w[2]) - ((w[1] / w[2]) * x1)\n",
    "\n",
    "\n",
    "\n",
    "# plot the training data points\n",
    "plt.plot(x[y==-1,0], x[y==-1,1], \"o\")\n",
    "plt.plot(x[y==1,0], x[y==1,1], \"o\")\n",
    "\n",
    "# plot the heldout data points\n",
    "plt.plot(x_heldout[y_heldout==-1,0], x_heldout[y_heldout==-1,1], \"x\")\n",
    "plt.plot(x_heldout[y_heldout==1,0], x_heldout[y_heldout==1,1], \"x\")\n",
    "\n",
    "# plot the decision boundary \n",
    "plt.plot(x1, x2)\n",
    "xlabel('x1')\n",
    "ylabel('x2')"
   ]
  },
  {
   "cell_type": "markdown",
   "metadata": {},
   "source": [
    "How well does the decision boundary separate the points in the two classes? Where do you think the decision boundary should go? And how does the boundary change as you train for longer (more epochs)? Plot train and heldout errors as a function of number epochs. Note that careful tuning of the learning rate is needed to get sensible behaviour. Using $\\eta = \\frac{1}{1+e}$ where $e$ is the epoch number often works well."
   ]
  },
  {
   "cell_type": "code",
   "execution_count": 46,
   "metadata": {},
   "outputs": [
    {
     "data": {
      "text/plain": [
       "<matplotlib.text.Text at 0x9cd2898>"
      ]
     },
     "execution_count": 46,
     "metadata": {},
     "output_type": "execute_result"
    },
    {
     "data": {
      "image/png": "[encoded data removed]",
      "text/plain": [
       "<matplotlib.figure.Figure at 0x899feb8>"
      ]
     },
     "metadata": {},
     "output_type": "display_data"
    }
   ],
   "source": [
    "w_hat = np.zeros(Phi.shape[1])\n",
    "T = 60\n",
    "train_error = np.zeros(T)\n",
    "heldout_error = np.zeros(T)\n",
    "for e in range(T):\n",
    "    # here we use a learning rate, which decays with each epoch\n",
    "    lr = 1./(1+e)\n",
    "    w_hat = ... # over to you\n",
    "    \n",
    "    train_error[e] = ... # over to you\n",
    "    heldout_error[e] = ... # over to you\n",
    "\n",
    "plot(train_error, label = 'Train Error')\n",
    "plot(heldout_error, label = 'Held-out Error')\n",
    "plt.legend()\n",
    "xlabel('Epochs')\n",
    "ylabel('Error')"
   ]
  },
  {
   "cell_type": "markdown",
   "metadata": {},
   "source": [
    "Does the heldout error track the training error closely? Is the model (i.e., weights at a given epoch) on the training set the same as the best model on the heldout set?\n",
    "\n",
    "Now, let's plot the decision boundary using w_hat"
   ]
  },
  {
   "cell_type": "code",
   "execution_count": 47,
   "metadata": {},
   "outputs": [
    {
     "name": "stdout",
     "output_type": "stream",
     "text": [
      "[-6.64722222  1.8809153  -0.65715625]\n"
     ]
    },
    {
     "data": {
      "text/plain": [
       "<matplotlib.text.Text at 0x9cd5358>"
      ]
     },
     "execution_count": 47,
     "metadata": {},
     "output_type": "execute_result"
    },
    {
     "data": {
      "image/png": "[encoded data removed]",
      "text/plain": [
       "<matplotlib.figure.Figure at 0x8b9c828>"
      ]
     },
     "metadata": {},
     "output_type": "display_data"
    }
   ],
   "source": [
    "x1 = np.linspace(2, 10, 100)\n",
    "print(w_hat)\n",
    "x2 = - (w_hat[0] / w_hat[2]) - ((w_hat[1] / w_hat[2]) * x1)\n",
    "\n",
    "# plot the training data points\n",
    "plt.plot(x[y==-1,0], x[y==-1,1], \"o\")\n",
    "plt.plot(x[y==1,0], x[y==1,1], \"o\")\n",
    "\n",
    "# plot the heldout data points\n",
    "plt.plot(x_heldout[y_heldout==-1,0], x_heldout[y_heldout==-1,1], \"x\")\n",
    "plt.plot(x_heldout[y_heldout==1,0], x_heldout[y_heldout==1,1], \"x\")\n",
    "\n",
    "# plot the decision boundary \n",
    "plt.plot(x1, x2)\n",
    "xlabel('x1')\n",
    "ylabel('x2')"
   ]
  },
  {
   "cell_type": "markdown",
   "metadata": {},
   "source": [
    "Now generate training and heldout datasets that are not linearly separable, and investigate what happens to training and heldout errors with increasing number of epochs."
   ]
  },
  {
   "cell_type": "code",
   "execution_count": null,
   "metadata": {
    "collapsed": true
   },
   "outputs": [],
   "source": []
  }
 ],
 "metadata": {
  "kernelspec": {
   "display_name": "Python 3",
   "language": "python",
   "name": "python3"
  },
  "language_info": {
   "codemirror_mode": {
    "name": "ipython",
    "version": 3
   },
   "file_extension": ".py",
   "mimetype": "text/x-python",
   "name": "python",
   "nbconvert_exporter": "python",
   "pygments_lexer": "ipython3",
   "version": "3.6.1"
  }
 },
 "nbformat": 4,
 "nbformat_minor": 1
}
